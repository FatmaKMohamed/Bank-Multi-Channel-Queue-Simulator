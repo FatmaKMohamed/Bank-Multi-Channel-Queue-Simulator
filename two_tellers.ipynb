{
  "nbformat": 4,
  "nbformat_minor": 0,
  "metadata": {
    "colab": {
      "provenance": []
    },
    "kernelspec": {
      "name": "python3",
      "display_name": "Python 3"
    },
    "language_info": {
      "name": "python"
    }
  },
  "cells": [
    {
      "cell_type": "code",
      "source": [
        "import random as rd\n",
        "\n",
        "# random number generation for Ordinary Customer inter-arrival time\n",
        "def generate_Ordinary_Customer_IAT():\n",
        "  r = rd.uniform(0,1)\n",
        "  if r>=0 and r<0.09:\n",
        "       IAT = 0\n",
        "  elif r>=0.09 and r<0.26:\n",
        "       IAT = 1                              \n",
        "  elif r>=0.26 and r<0.53:\n",
        "       IAT = 2\n",
        "  elif r>=0.53 and r<0.73:\n",
        "       IAT = 3\n",
        "  elif r>=0.73 and r<0.88:\n",
        "       IAT = 4\n",
        "  elif r>=0.88 and r<1:\n",
        "       IAT = 5\n",
        "  return IAT\n",
        "\n",
        "# random number generation for Ordinary Customer service time\n",
        "def generate_Ordinary_Customer_ST():\n",
        "  r = rd.uniform(0,1)\n",
        "  if r>=0 and r<0.2:\n",
        "       ST=1\n",
        "  elif r>=0.2 and r<0.6:\n",
        "       ST=2                              \n",
        "  elif r>=0.6 and r<0.88:\n",
        "       ST=3\n",
        "  elif r>=0.88 and r<1:\n",
        "       ST=4\n",
        "  return ST\n",
        "\n",
        "# random number generation for Distinguished Customer inter-arrival time\n",
        "def generate_Distinguished_Customer_IAT():\n",
        "    r = rd.uniform(0,1)\n",
        "    if r>=0 and r<0.1:\n",
        "       IAT=1\n",
        "    elif r>=0.1 and r<0.3:\n",
        "       IAT=2                              \n",
        "    elif r>=0.3 and r<0.6:\n",
        "       IAT=3\n",
        "    elif r>=0.6 and r<1:\n",
        "       IAT=4\n",
        "    return IAT\n",
        "\n",
        "# random number generation for Distinguished Customer service time\n",
        "def generate_Distinguished_Customer_ST():\n",
        "    r = rd.uniform(0,1)\n",
        "    if r>=0 and r<0.1:\n",
        "       ST=1\n",
        "    elif r>=0.1 and r<0.4:\n",
        "       ST=2                             \n",
        "    elif r>=0.4 and r<0.78:\n",
        "       ST=3\n",
        "    elif r>=0.78 and r<1:\n",
        "       ST=4\n",
        "    return ST\n",
        "  \n"
      ],
      "metadata": {
        "id": "BraI8-4PigH5"
      },
      "execution_count": null,
      "outputs": []
    },
    {
      "cell_type": "code",
      "source": [
        "#initialize array for each input variable for both types\n",
        "Ordinary_Customer_IAT = list()\n",
        "Ordinary_Customer_ST = list()\n",
        "\n",
        "Distinguished_Customer_IAT = list() \n",
        "Distinguished_Customer_ST = list()\n",
        "\n",
        "# generate random IAT, ST for 1000 customers for both types\n",
        "for i in range (1000) : \n",
        "  Ordinary_Cust_IAT = generate_Ordinary_Customer_IAT()\n",
        "  Ordinary_Cust_ST = generate_Ordinary_Customer_ST()\n",
        "  Distinguished_Cust_IAT = generate_Distinguished_Customer_IAT()\n",
        "  Distinguished_Cust_ST = generate_Distinguished_Customer_ST()\n",
        "  \n",
        "  Ordinary_Customer_IAT.append(Ordinary_Cust_IAT)\n",
        "  Ordinary_Customer_ST.append(Ordinary_Cust_ST)\n",
        "  Distinguished_Customer_IAT.append(Distinguished_Cust_IAT)\n",
        "  Distinguished_Customer_ST.append(Distinguished_Cust_ST)"
      ],
      "metadata": {
        "id": "Su5Ij2nruwwt"
      },
      "execution_count": null,
      "outputs": []
    },
    {
      "cell_type": "code",
      "source": [
        "#initialize array for each variable for both types\n",
        "Ordinary_Customer_AT = []\n",
        "Ordinary_Customer_SST = []\n",
        "Ordinary_Customer_WT = []\n",
        "Ordinary_Customer_CT = []\n",
        "\n",
        "Distinguished_Customer_AT = []\n",
        "Distinguished_Customer_SST = []\n",
        "Distinguished_Customer_WT = []\n",
        "Distinguished_Customer_CT = []\n",
        "\n",
        "# calculate AT, SST, WT, CT for 1000 customers\n",
        "for i in range(1000):\n",
        "  # calculations for first customer\n",
        "  if(i == 0):\n",
        "    Ordinary_Customer_AT.append(Ordinary_Customer_IAT[i])\n",
        "    Ordinary_Customer_SST.append(Ordinary_Customer_IAT[i])\n",
        "    Ordinary_Customer_WT.append(0)\n",
        "    Ordinary_Customer_CT.append(Ordinary_Customer_SST[i]+Ordinary_Customer_ST[i])\n",
        "\n",
        "    Distinguished_Customer_AT.append(Distinguished_Customer_IAT[i])\n",
        "    Distinguished_Customer_SST.append(Distinguished_Customer_IAT[i])\n",
        "    Distinguished_Customer_WT.append(0)\n",
        "    Distinguished_Customer_CT.append(Distinguished_Customer_SST[i]+Distinguished_Customer_ST[i])\n",
        "  # calculations for other customers\n",
        "  else:\n",
        "     Ordinary_Customer_AT.append(Ordinary_Customer_IAT[i]+Ordinary_Customer_AT[i-1])\n",
        "     Ordinary_Customer_SST.append(max(Ordinary_Customer_AT[i],Ordinary_Customer_CT[i-1]))\n",
        "     Ordinary_Customer_WT.append(Ordinary_Customer_SST[i]-Ordinary_Customer_AT[i])\n",
        "     Ordinary_Customer_CT.append(Ordinary_Customer_AT[i]+Ordinary_Customer_WT[i]+Ordinary_Customer_ST[i])\n",
        "\n",
        "     Distinguished_Customer_AT.append(Distinguished_Customer_IAT[i]+Distinguished_Customer_AT[i-1])\n",
        "     Distinguished_Customer_SST.append(max(Distinguished_Customer_AT[i],Distinguished_Customer_CT[i-1]))\n",
        "     Distinguished_Customer_WT.append(Distinguished_Customer_SST[i]-Distinguished_Customer_AT[i])\n",
        "     Distinguished_Customer_CT.append(Distinguished_Customer_AT[i]+Distinguished_Customer_WT[i]+Distinguished_Customer_ST[i])\n",
        "\n"
      ],
      "metadata": {
        "id": "XHMB8iQHCoRw"
      },
      "execution_count": null,
      "outputs": []
    },
    {
      "cell_type": "code",
      "source": [
        "#calculate avg waiting time for both types\n",
        "Avg_Ordinary_Customer_WT = sum(Ordinary_Customer_WT)/len(Ordinary_Customer_WT)\n",
        "Avg_Distinguished_Customer_WT = sum(Distinguished_Customer_WT)/len(Distinguished_Customer_WT)\n",
        "\n",
        "print(Avg_Ordinary_Customer_WT)\n",
        "print(Avg_Distinguished_Customer_WT)\n"
      ],
      "metadata": {
        "colab": {
          "base_uri": "https://localhost:8080/"
        },
        "id": "D1bLoUxWj1yU",
        "outputId": "bff052b2-6a58-478c-e7ab-c77e914a754b"
      },
      "execution_count": null,
      "outputs": [
        {
          "output_type": "stream",
          "name": "stdout",
          "text": [
            "6.659\n",
            "2.246\n"
          ]
        }
      ]
    },
    {
      "cell_type": "code",
      "source": [
        "import matplotlib.pyplot as plt\n",
        "# graph for Ordinary Customer waiting time\n",
        "plt.hist(Ordinary_Customer_WT)\n",
        "plt.title('Ordinary_Customer_WT')\n",
        "plt.show()"
      ],
      "metadata": {
        "colab": {
          "base_uri": "https://localhost:8080/",
          "height": 281
        },
        "id": "QdhcLMJuLbGw",
        "outputId": "a694ab34-be27-4afc-d5ea-c11de7c19505"
      },
      "execution_count": null,
      "outputs": [
        {
          "output_type": "display_data",
          "data": {
            "text/plain": [
              "<Figure size 432x288 with 1 Axes>"
            ],
            "image/png": "[encoded data removed]"
          },
          "metadata": {
            "needs_background": "light"
          }
        }
      ]
    },
    {
      "cell_type": "code",
      "source": [
        "# graph for Distinguished Customer waiting time\n",
        "plt.hist(Distinguished_Customer_WT)\n",
        "plt.title('Distinguished_Customer_WT')\n",
        "plt.show() "
      ],
      "metadata": {
        "colab": {
          "base_uri": "https://localhost:8080/",
          "height": 281
        },
        "id": "3owZxxj7LcE-",
        "outputId": "a852c2cc-447b-47ad-c4d7-6b64af022f60"
      },
      "execution_count": null,
      "outputs": [
        {
          "output_type": "display_data",
          "data": {
            "text/plain": [
              "<Figure size 432x288 with 1 Axes>"
            ],
            "image/png": "[encoded data removed]"
          },
          "metadata": {
            "needs_background": "light"
          }
        }
      ]
    }
  ]
}