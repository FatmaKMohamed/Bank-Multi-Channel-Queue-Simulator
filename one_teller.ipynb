{
  "nbformat": 4,
  "nbformat_minor": 0,
  "metadata": {
    "colab": {
      "provenance": []
    },
    "kernelspec": {
      "name": "python3",
      "display_name": "Python 3"
    },
    "language_info": {
      "name": "python"
    }
  },
  "cells": [
    {
      "cell_type": "code",
      "source": [
        "import random as rd\n",
        "import queue\n",
        "\n",
        "# random number generation for Ordinary Customer inter-arrival time\n",
        "def generate_Ordinary_Customer_IAT():\n",
        "  r = rd.uniform(0,1)\n",
        "  if r>=0 and r<0.09:\n",
        "       IAT = 0\n",
        "  elif r>=0.09 and r<0.26:\n",
        "       IAT = 1                              \n",
        "  elif r>=0.26 and r<0.53:\n",
        "       IAT = 2\n",
        "  elif r>=0.53 and r<0.73:\n",
        "       IAT = 3\n",
        "  elif r>=0.73 and r<0.88:\n",
        "       IAT = 4\n",
        "  elif r>=0.88 and r<1:\n",
        "       IAT = 5\n",
        "  return IAT\n",
        "\n",
        "# random number generation for Ordinary Customer service time\n",
        "def generate_Ordinary_Customer_ST():\n",
        "  r = rd.uniform(0,1)\n",
        "  if r>=0 and r<0.2:\n",
        "       ST=1\n",
        "  elif r>=0.2 and r<0.6:\n",
        "       ST=2                              \n",
        "  elif r>=0.6 and r<0.88:\n",
        "       ST=3\n",
        "  elif r>=0.88 and r<1:\n",
        "       ST=4\n",
        "  return ST\n",
        "\n",
        "# random number generation for Distinguished Customer inter-arrival time\n",
        "def generate_Distinguished_Customer_IAT():\n",
        "    r = rd.uniform(0,1)\n",
        "    if r>=0 and r<0.1:\n",
        "       IAT=1\n",
        "    elif r>=0.1 and r<0.3:\n",
        "       IAT=2                              \n",
        "    elif r>=0.3 and r<0.6:\n",
        "       IAT=3\n",
        "    elif r>=0.6 and r<1:\n",
        "       IAT=4\n",
        "    return IAT\n",
        "\n",
        "# random number generation for Distinguished Customer service time\n",
        "def generate_Distinguished_Customer_ST():\n",
        "    r = rd.uniform(0,1)\n",
        "    if r>=0 and r<0.1:\n",
        "       ST=1\n",
        "    elif r>=0.1 and r<0.4:\n",
        "       ST=2                             \n",
        "    elif r>=0.4 and r<0.78:\n",
        "       ST=3\n",
        "    elif r>=0.78 and r<1:\n",
        "       ST=4\n",
        "    return ST\n",
        "  \n"
      ],
      "metadata": {
        "id": "TeFJHPO7MJ8J"
      },
      "execution_count": null,
      "outputs": []
    },
    {
      "cell_type": "code",
      "source": [
        "# take from  arrivalt time array and insert into the queue\n",
        "def check_queue(arrival_time,clock,que):\n",
        "  for x in arrival_time.copy():\n",
        "    if(x <= clock):\n",
        "      que.put(x)\n",
        "      arrival_time.remove(x)"
      ],
      "metadata": {
        "id": "e7FV-lXP4og3"
      },
      "execution_count": null,
      "outputs": []
    },
    {
      "cell_type": "code",
      "source": [
        "# generate random IAT for 1000 customers for both types\n",
        "Ordinary_Customer_IAT = list()\n",
        "Distinguished_Customer_IAT = list()\n",
        "\n",
        "for i in range (1000) :  \n",
        "  Ordinary_Cust_IAT = generate_Ordinary_Customer_IAT()\n",
        "  Ordinary_Customer_IAT.append(Ordinary_Cust_IAT)\n",
        "\n",
        "  Distinguished_Cust_IAT = generate_Distinguished_Customer_IAT()\n",
        "  Distinguished_Customer_IAT.append(Distinguished_Cust_IAT)\n"
      ],
      "metadata": {
        "id": "exvluNTSMqIe"
      },
      "execution_count": null,
      "outputs": []
    },
    {
      "cell_type": "code",
      "source": [
        "# filling the arrival time arrays for both types\n",
        "Ordinary_Customer_AT = []\n",
        "Distinguished_Customer_AT = []\n",
        "\n",
        "for i in range(len(Ordinary_Customer_IAT)):\n",
        "  if(i==0):\n",
        "    Ordinary_Customer_AT.append(Ordinary_Customer_IAT[i])\n",
        "    Distinguished_Customer_AT.append(Distinguished_Customer_IAT[i])\n",
        "  else:\n",
        "    Ordinary_Customer_AT.append(Ordinary_Customer_IAT[i] + Ordinary_Customer_AT[i-1])\n",
        "    Distinguished_Customer_AT.append(Distinguished_Customer_IAT[i] + Distinguished_Customer_AT[i-1])"
      ],
      "metadata": {
        "id": "XDv67yU0vGOd"
      },
      "execution_count": null,
      "outputs": []
    },
    {
      "cell_type": "code",
      "source": [
        "#initialize array for each variable for both types\n",
        "Ordinary_Customer_SST = []\n",
        "Ordinary_Customer_WT = []\n",
        "Ordinary_Customer_CT = []\n",
        "Ordinary_Customer_queue = queue.Queue()\n",
        "\n",
        "\n",
        "Distinguished_Customer_SST = []\n",
        "Distinguished_Customer_WT = []\n",
        "Distinguished_Customer_CT = []\n",
        "Distinguished_Customer_queue = queue.Queue()"
      ],
      "metadata": {
        "id": "rmno0m7wIppv"
      },
      "execution_count": null,
      "outputs": []
    },
    {
      "cell_type": "code",
      "source": [
        "# clock take the value of the completion time of the last served customer\n",
        "clock = 0\n",
        "max_DC_queue_length = 0\n",
        "max_OC_queue_length = 0\n",
        "OC_ST= []\n",
        "DC_ST= []\n",
        "\n",
        "# calculate AT, SST, WT, CT for first customer\n",
        "if(Distinguished_Customer_AT[0]<=Ordinary_Customer_AT[0]):\n",
        "      Distinguished_Customer_ST = generate_Distinguished_Customer_ST()\n",
        "      DC_ST.append(Distinguished_Customer_ST)\n",
        "      Distinguished_Customer_SST.append(Distinguished_Customer_AT[0])\n",
        "      Distinguished_Customer_WT.append(0)\n",
        "      Distinguished_Customer_CT.append(Distinguished_Customer_SST[0]+Distinguished_Customer_ST)\n",
        "    \n",
        "      clock = Distinguished_Customer_CT[0]\n",
        "      Distinguished_Customer_AT.pop(0)\n",
        "      \n",
        "      #check the waited customers in each queue\n",
        "      check_queue(Ordinary_Customer_AT,clock,Ordinary_Customer_queue)\n",
        "      check_queue(Distinguished_Customer_AT,clock,Distinguished_Customer_queue)\n",
        "      if(Distinguished_Customer_queue.qsize()>max_DC_queue_length):\n",
        "        max_DC_queue_length = Distinguished_Customer_queue.qsize()\n",
        "      if(Ordinary_Customer_queue.qsize()>max_OC_queue_length):\n",
        "        max_OC_queue_length = Ordinary_Customer_queue.qsize()\n",
        "     \n",
        "else:\n",
        "      Ordinary_Customer_ST = generate_Ordinary_Customer_ST()\n",
        "      OC_ST.append(Ordinary_Customer_ST)\n",
        "      Ordinary_Customer_SST.append(Ordinary_Customer_AT[0])\n",
        "      Ordinary_Customer_WT.append(0)\n",
        "      Ordinary_Customer_CT.append(Ordinary_Customer_SST[0]+Ordinary_Customer_ST)\n",
        "      \n",
        "      clock = Ordinary_Customer_CT[0]\n",
        "      Ordinary_Customer_AT.pop(0)\n",
        "\n",
        "      #check the waited customers in each queue\n",
        "      check_queue(Ordinary_Customer_AT,clock,Ordinary_Customer_queue)\n",
        "      check_queue(Distinguished_Customer_AT,clock,Distinguished_Customer_queue)\n",
        "\n",
        "      if(Distinguished_Customer_queue.qsize()>max_DC_queue_length):\n",
        "        max_DC_queue_length = Distinguished_Customer_queue.qsize()\n",
        "      if(Ordinary_Customer_queue.qsize()>max_OC_queue_length):\n",
        "        max_OC_queue_length = Ordinary_Customer_queue.qsize()"
      ],
      "metadata": {
        "id": "B91nD_rNeUOc"
      },
      "execution_count": null,
      "outputs": []
    },
    {
      "cell_type": "code",
      "source": [
        "total_teller_idle_time = 0\n",
        "\n",
        "# calculate AT, SST, WT, CT for 1000 customers\n",
        "for i in range(1000):\n",
        "    #check the queue of Distinguished Customers\n",
        "    if(Distinguished_Customer_queue.qsize()!=0):\n",
        "      Distinguished_Customer_ST = generate_Distinguished_Customer_ST()\n",
        "      DC_ST.append(Distinguished_Customer_ST)\n",
        "      DC_AT = Distinguished_Customer_queue.get()\n",
        "      Distinguished_Customer_SST.append(max(clock,DC_AT))\n",
        "      Distinguished_Customer_WT.append(Distinguished_Customer_SST[-1] - DC_AT)\n",
        "      Distinguished_Customer_CT.append(Distinguished_Customer_SST[-1] + Distinguished_Customer_ST)\n",
        "      \n",
        "      idle_time  = Distinguished_Customer_SST[-1] - clock\n",
        "      total_teller_idle_time += idle_time\n",
        "      clock = Distinguished_Customer_CT[-1]\n",
        "      \n",
        "      #check the waited customers in each queue\n",
        "      check_queue(Ordinary_Customer_AT,clock,Ordinary_Customer_queue)\n",
        "      check_queue(Distinguished_Customer_AT,clock,Distinguished_Customer_queue)\n",
        "\n",
        "      #to get max length for each queue\n",
        "      if(Distinguished_Customer_queue.qsize()>max_DC_queue_length):\n",
        "        max_DC_queue_length = Distinguished_Customer_queue.qsize()\n",
        "      if(Ordinary_Customer_queue.qsize()>max_OC_queue_length):\n",
        "        max_OC_queue_length = Ordinary_Customer_queue.qsize()\n",
        "    \n",
        "    #check the queue of Ordinary Customers\n",
        "    elif(Distinguished_Customer_queue.qsize() == 0 and Ordinary_Customer_queue.qsize() != 0 ):\n",
        "      Ordinary_Customer_ST = generate_Ordinary_Customer_ST()\n",
        "      OC_ST.append(Ordinary_Customer_ST)\n",
        "      OC_AT = Ordinary_Customer_queue.get()\n",
        "      Ordinary_Customer_SST.append(max(clock,OC_AT))\n",
        "      Ordinary_Customer_WT.append(Ordinary_Customer_SST[-1] - OC_AT)\n",
        "      Ordinary_Customer_CT.append(Ordinary_Customer_SST[-1] + Ordinary_Customer_ST)\n",
        "      \n",
        "      idle_time  = Ordinary_Customer_SST[-1] - clock\n",
        "      total_teller_idle_time += idle_time\n",
        "      clock = Ordinary_Customer_CT[-1]\n",
        "     \n",
        "      #check the waited customers in each queue\n",
        "      check_queue(Ordinary_Customer_AT,clock,Ordinary_Customer_queue)\n",
        "      check_queue(Distinguished_Customer_AT,clock,Distinguished_Customer_queue)\n",
        "\n",
        "      #to get max length for each queue\n",
        "      if(Distinguished_Customer_queue.qsize()>max_DC_queue_length):\n",
        "        max_DC_queue_length = Distinguished_Customer_queue.qsize()\n",
        "      if(Ordinary_Customer_queue.qsize()>max_OC_queue_length):\n",
        "        max_OC_queue_length = Ordinary_Customer_queue.qsize()\n",
        "      "
      ],
      "metadata": {
        "id": "VWXE0MU_smwT"
      },
      "execution_count": null,
      "outputs": []
    },
    {
      "cell_type": "code",
      "source": [
        "# The average service time of the teller.\n",
        "AVG_ST = (sum(OC_ST) + sum(DC_ST))/(len(OC_ST)+len(DC_ST))\n",
        "AVG_ST"
      ],
      "metadata": {
        "colab": {
          "base_uri": "https://localhost:8080/"
        },
        "id": "YgQtdQD67vAt",
        "outputId": "cee28c28-70ad-4444-e31c-8918c3b05581"
      },
      "execution_count": null,
      "outputs": [
        {
          "output_type": "execute_result",
          "data": {
            "text/plain": [
              "2.627"
            ]
          },
          "metadata": {},
          "execution_count": 9
        }
      ]
    },
    {
      "cell_type": "code",
      "source": [
        "#The average waiting time in the ordinary customers queue and the distinguished customers queue.\n",
        "\n",
        "AVG_Distinguished_Customer_WT = sum(Distinguished_Customer_WT)/len(Distinguished_Customer_WT)\n",
        "AVG_Ordinary_Customer_WT = sum(Ordinary_Customer_WT)/len(Ordinary_Customer_WT)\n",
        "\n",
        "print(AVG_Distinguished_Customer_WT)\n",
        "print(AVG_Ordinary_Customer_WT)"
      ],
      "metadata": {
        "id": "5HLiDJyByVHG",
        "colab": {
          "base_uri": "https://localhost:8080/"
        },
        "outputId": "fad249ca-f637-4206-d3ac-73d19e306bc6"
      },
      "execution_count": null,
      "outputs": [
        {
          "output_type": "stream",
          "name": "stdout",
          "text": [
            "2.272514619883041\n",
            "1092.6137931034482\n"
          ]
        }
      ]
    },
    {
      "cell_type": "code",
      "source": [
        "#The maximum ordinary customers queue length and the distinguished customers queue length.\n",
        "print(max_DC_queue_length)\n",
        "print(max_OC_queue_length)"
      ],
      "metadata": {
        "colab": {
          "base_uri": "https://localhost:8080/"
        },
        "id": "Hli-kAZeAT77",
        "outputId": "3c43a531-6ae8-431c-f4be-989912ef6f8e"
      },
      "execution_count": null,
      "outputs": [
        {
          "output_type": "stream",
          "name": "stdout",
          "text": [
            "5\n",
            "863\n"
          ]
        }
      ]
    },
    {
      "cell_type": "code",
      "source": [
        "#The probability that an ordinary customer wait in the queue, and the probability that a distinguished customer wait in the queue.\n",
        "def get_probability_of_waiting(Waiting):\n",
        "  wait = 0\n",
        "  for i in Waiting:\n",
        "    if(i>0):\n",
        "      wait = wait + 1\n",
        "  prob_of_waiting = wait/len(Waiting)\n",
        "\n",
        "  return prob_of_waiting\n",
        "\n",
        "OC_Prob_of_Wait = get_probability_of_waiting(Ordinary_Customer_WT)\n",
        "DC_Prob_of_Wait = get_probability_of_waiting(Distinguished_Customer_WT)\n",
        "\n",
        "print(OC_Prob_of_Wait)\n",
        "print(DC_Prob_of_Wait)"
      ],
      "metadata": {
        "colab": {
          "base_uri": "https://localhost:8080/"
        },
        "id": "Ow0qxdjBz1Ox",
        "outputId": "2229218d-bb27-4b9e-fc7b-c2761f118774"
      },
      "execution_count": null,
      "outputs": [
        {
          "output_type": "stream",
          "name": "stdout",
          "text": [
            "0.993103448275862\n",
            "0.8116959064327486\n"
          ]
        }
      ]
    },
    {
      "cell_type": "code",
      "source": [
        "#experimental Avg  inter-arrival time, service time for both types of customers\n",
        "AVG_OC_IAT = sum(Ordinary_Customer_IAT) / len(Ordinary_Customer_IAT)\n",
        "AVG_DC_IAT = sum(Distinguished_Customer_IAT) / len(Distinguished_Customer_IAT)\n",
        "AVG_OC_ST = sum(OC_ST) / len(OC_ST)\n",
        "AVG_DC_ST = sum(DC_ST) / len(DC_ST)\n",
        "\n",
        "print(AVG_OC_IAT)\n",
        "print(AVG_OC_IAT)\n",
        "print(AVG_OC_ST)\n",
        "print(AVG_DC_ST)"
      ],
      "metadata": {
        "colab": {
          "base_uri": "https://localhost:8080/"
        },
        "id": "cLp_OMlz9UX-",
        "outputId": "d67fa79c-9b3e-42a3-f9b9-feedafbd587c"
      },
      "execution_count": null,
      "outputs": [
        {
          "output_type": "stream",
          "name": "stdout",
          "text": [
            "2.496\n",
            "2.496\n",
            "2.220689655172414\n",
            "2.695906432748538\n"
          ]
        }
      ]
    },
    {
      "cell_type": "code",
      "source": [
        "#The portion of idle time of the teller\n",
        "portion_of_idle_time=total_teller_idle_time/clock\n",
        "portion_of_idle_time"
      ],
      "metadata": {
        "colab": {
          "base_uri": "https://localhost:8080/"
        },
        "id": "LydFmOLXDOgW",
        "outputId": "baaef9cc-51f9-42ae-9427-7d9756edd1d0"
      },
      "execution_count": null,
      "outputs": [
        {
          "output_type": "execute_result",
          "data": {
            "text/plain": [
              "0.0"
            ]
          },
          "metadata": {},
          "execution_count": 14
        }
      ]
    },
    {
      "cell_type": "code",
      "source": [
        "import matplotlib.pyplot as plt\n",
        "# graph for Ordinary Customer waiting time\n",
        "plt.hist(Ordinary_Customer_WT)\n",
        "plt.title('Ordinary_Customer_WT')\n",
        "plt.show() "
      ],
      "metadata": {
        "colab": {
          "base_uri": "https://localhost:8080/",
          "height": 281
        },
        "id": "Sa0hZzryJRop",
        "outputId": "4e933660-3306-4ee7-a99e-b3bb6146d347"
      },
      "execution_count": null,
      "outputs": [
        {
          "output_type": "display_data",
          "data": {
            "text/plain": [
              "<Figure size 432x288 with 1 Axes>"
            ],
            "image/png": "[encoded data removed]"
          },
          "metadata": {
            "needs_background": "light"
          }
        }
      ]
    },
    {
      "cell_type": "code",
      "source": [
        "# graph for Distinguished Customer waiting time\n",
        "plt.hist(Distinguished_Customer_WT)\n",
        "plt.title('Distinguished_Customer_WT')\n",
        "plt.show() "
      ],
      "metadata": {
        "colab": {
          "base_uri": "https://localhost:8080/",
          "height": 281
        },
        "id": "pbUeBbNvJr3z",
        "outputId": "0bf18909-8241-49da-ec69-205bba4d0322"
      },
      "execution_count": null,
      "outputs": [
        {
          "output_type": "display_data",
          "data": {
            "text/plain": [
              "<Figure size 432x288 with 1 Axes>"
            ],
            "image/png": "[encoded data removed]"
          },
          "metadata": {
            "needs_background": "light"
          }
        }
      ]
    }
  ]
}